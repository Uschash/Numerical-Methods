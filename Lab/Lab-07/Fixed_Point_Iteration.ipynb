{
 "cells": [
  {
   "cell_type": "markdown",
   "metadata": {
    "id": "wXPE0ROexyjG"
   },
   "source": [
    "Make sure you remove `raise NotImplementedError()` and fill in any place that says `# YOUR CODE HERE`, as well as your `NAME`, `ID`, and `LAB_SECTION` below:"
   ]
  },
  {
   "cell_type": "code",
   "execution_count": 2,
   "metadata": {
    "id": "mJQc9NLkxyjI"
   },
   "outputs": [],
   "source": [
    "NAME = \"\"\n",
    "ID = \"\"\n",
    "LAB_SECTION = \"\""
   ]
  },
  {
   "cell_type": "markdown",
   "metadata": {
    "id": "NtfDvRDUxyjK"
   },
   "source": [
    "---"
   ]
  },
  {
   "cell_type": "markdown",
   "metadata": {
    "deletable": false,
    "editable": false,
    "id": "DdpkaSKNxyjK",
    "nbgrader": {
     "cell_type": "markdown",
     "checksum": "ddb3d78c373832ec271c9a3204d39044",
     "grade": false,
     "grade_id": "intro",
     "locked": true,
     "schema_version": 3,
     "solution": false,
     "task": false
    }
   },
   "source": [
    "# Fixed Point Iteration\n",
    "\n",
    "### Fixed point:\n",
    "A number $\\xi$ is called a **fixed point** to function $g(x)$ if $g(\\xi) = \\xi$. Using fixed points are a nice strategy to find roots of an equation. In this method if we are trying to find a root of $f(x) = 0$, we try to write the function in the form, $x = g(x)$. That is,\n",
    "$$\n",
    "f(x) = x - g(x) = 0\n",
    "$$\n",
    "\n",
    "So, if $\\xi$ is a fixed point of $g(x)$ it would also be a root of $f(x)=0$, because,\n",
    "$$\n",
    "f(\\xi) = \\xi - g(\\xi) = \\xi - \\xi = 0\n",
    "$$\n",
    "\n",
    "We can find a suitable $g(x)$ in any number of ways. Not all of them would converge, whereas, Some would converge very fast. For example, consider $Eq. 6.1$.\n",
    "\n",
    "\\begin{align}\n",
    "&         &    f(x) &=x^5 + 2.5x^4 - 2x^3 -6x^2 + x + 2 \\\\\n",
    "&\\implies &x - g(x) &=x^5 + 2.5x^4 - 2x^3 -6x^2 + x + 2 \\\\\n",
    "&\\implies &    g(x) &=-x^5 - 2.5x^4 + 2x^3 + 6x^2 - 2 \\tag{6.2}\\\\\n",
    "\\end{align}\n",
    "\n",
    "again, \n",
    "$$\n",
    "f(x) = x^5 + 2.5x^4 - 2x^3 -6x^2 + x + 2 = 0\\\\\n",
    "$$\n",
    "\\begin{align}\n",
    "&\\implies &6x^2 &= x^5 + 2.5x^4 - 2x^3 + x + 2 \\\\\n",
    "&\\implies &x^2  &= \\frac{1}{6}(x^5 + 2.5x^4 - 2x^3 + x + 2)\\\\\n",
    "&\\implies &x    &= \\sqrt{\\frac{1}{6}(x^5 + 2.5x^4 - 2x^3 + x + 2)}\\\\\n",
    "&\\implies &g(x) &= \\sqrt{\\frac{1}{6}(x^5 + 2.5x^4 - 2x^3 + x + 2)}\\tag{6.3}\\\\\n",
    "\\end{align}\n",
    "\n",
    "Similarly,\n",
    "\\begin{align}\n",
    "&         &2.5x^4 &= -x^5 + 2x^3 + 6x^2 - x - 2 \\\\\n",
    "&\\implies &x^4  &= \\frac{1}{2.5}(-x^5 + 2x^3 + 6x^2 - x - 2)\\\\\n",
    "&\\implies &x    &= \\sqrt[\\leftroot{-1}\\uproot{2}\\scriptstyle 4]{\\frac{1}{2.5}(-x^5 + 2x^3 + 6x^2 - x - 2)}\\\\\n",
    "&\\implies &g(x) &= \\sqrt[\\leftroot{-1}\\uproot{2}\\scriptstyle 4]{\\frac{1}{2.5}(-x^5 + 2x^3 + 6x^2 - x - 2)}\\tag{6.4}\\\\\n",
    "\\end{align}\n",
    "\n",
    "### B. Complete the code below\n",
    "For this example we will use a couple of $g(x)$ function to find out which one converges faster."
   ]
  },
  {
   "cell_type": "code",
   "execution_count": 3,
   "metadata": {
    "deletable": false,
    "id": "66EX3xLExyjL",
    "nbgrader": {
     "cell_type": "code",
     "checksum": "5f4a24951baac3861aae56802249341f",
     "grade": false,
     "grade_id": "ans",
     "locked": false,
     "schema_version": 3,
     "solution": true,
     "task": false
    }
   },
   "outputs": [],
   "source": [
    "import numpy as np\n",
    "import pandas as pd\n",
    "import matplotlib.pyplot as plt\n",
    "from numpy.polynomial import Polynomial\n",
    "\n",
    "f = Polynomial([2.0, 1.0, -6.0, -2.0, 2.5, 1.0])\n",
    "g1 = Polynomial([-2.0, 0.0, 6.0, 2.0, -2.5, -1.0])\n",
    "\n",
    "def g2(x):\n",
    "    p = Polynomial([2.0, 1.0, 0.0, -2.0, 2.5, 1.0])\n",
    "    return np.sqrt(p(x)/6)\n",
    "\n",
    "def g3(x):\n",
    "    p = Polynomial([-2.0, -1.0, 6.0, 2.0, 0.0, -1.0])\n",
    "    return np.power(p(x)/2.5, 1.0/4.0)\n",
    "\n",
    "a1 = 0.8\n",
    "g1_a = []\n",
    "\n",
    "a2 = 0.8\n",
    "g2_a = []\n",
    "\n",
    "a3 = 0.8\n",
    "g3_a = []\n",
    "\n",
    "# YOUR CODE HERE\n",
    "while 1:\n",
    "  if (len(g1_a) > 2 and len(g2_a) > 2 and len(g3_a) > 2 and g1_a[-1] == g1_a[-2] and g2_a[-1] == g2_a[-2] and g3_a[-1] == g3_a[-2]): break\n",
    "  g1_a.append(a1)\n",
    "  g2_a.append(a2)\n",
    "  g3_a.append(a3)\n",
    "  a1 = g1(a1)\n",
    "  a2 = g2(a2)\n",
    "  a3 = g3(a3)"
   ]
  },
  {
   "cell_type": "code",
   "execution_count": 4,
   "metadata": {
    "colab": {
     "base_uri": "https://localhost:8080/",
     "height": 1000
    },
    "deletable": false,
    "editable": false,
    "id": "mhQGCNXxxyjM",
    "nbgrader": {
     "cell_type": "code",
     "checksum": "f301d7bce9186a23df34b47b5de0d570",
     "grade": true,
     "grade_id": "test",
     "locked": true,
     "points": 10,
     "schema_version": 3,
     "solution": false,
     "task": false
    },
    "outputId": "a1a84ab1-6b5f-40fc-9d32-fd59cd8bff40"
   },
   "outputs": [
    {
     "name": "stdout",
     "output_type": "stream",
     "text": [
      "       g1(x)     g2(x)    g3(x))\n",
      "0   0.800000  0.800000  0.800000\n",
      "1   1.512320  0.721997  0.912898\n",
      "2  -2.347605  0.688573  1.044444\n",
      "3   0.562201  0.677301  1.160638\n",
      "4  -0.054108  0.673860  1.241682\n",
      "5  -1.982772  0.672844  1.288278\n",
      "6  -1.995936  0.672547  1.311548\n",
      "7  -1.999770  0.672460  1.322205\n",
      "8  -1.999999  0.672435  1.326870\n",
      "9  -2.000000  0.672427  1.328868\n",
      "10 -2.000000  0.672425  1.329716\n",
      "11 -2.000000  0.672425  1.330075\n",
      "12 -2.000000  0.672424  1.330226\n",
      "13 -2.000000  0.672424  1.330290\n",
      "14 -2.000000  0.672424  1.330317\n",
      "15 -2.000000  0.672424  1.330328\n",
      "16 -2.000000  0.672424  1.330333\n",
      "17 -2.000000  0.672424  1.330335\n",
      "18 -2.000000  0.672424  1.330336\n",
      "19 -2.000000  0.672424  1.330336\n",
      "20 -2.000000  0.672424  1.330336\n",
      "21 -2.000000  0.672424  1.330336\n",
      "22 -2.000000  0.672424  1.330336\n",
      "23 -2.000000  0.672424  1.330336\n",
      "24 -2.000000  0.672424  1.330336\n",
      "25 -2.000000  0.672424  1.330336\n",
      "26 -2.000000  0.672424  1.330336\n",
      "27 -2.000000  0.672424  1.330336\n",
      "28 -2.000000  0.672424  1.330336\n",
      "29 -2.000000  0.672424  1.330336\n",
      "30 -2.000000  0.672424  1.330336\n",
      "31 -2.000000  0.672424  1.330336\n",
      "32 -2.000000  0.672424  1.330336\n",
      "33 -2.000000  0.672424  1.330336\n",
      "34 -2.000000  0.672424  1.330336\n",
      "35 -2.000000  0.672424  1.330336\n",
      "36 -2.000000  0.672424  1.330336\n",
      "37 -2.000000  0.672424  1.330336\n",
      "38 -2.000000  0.672424  1.330336\n",
      "39 -2.000000  0.672424  1.330336\n",
      "40 -2.000000  0.672424  1.330336\n",
      "41 -2.000000  0.672424  1.330336\n",
      "42 -2.000000  0.672424  1.330336\n",
      "43 -2.000000  0.672424  1.330336\n",
      "44 -2.000000  0.672424  1.330336\n",
      "45 -2.000000  0.672424  1.330336\n"
     ]
    },
    {
     "name": "stderr",
     "output_type": "stream",
     "text": [
      "C:\\Users\\tanvi\\AppData\\Local\\Temp/ipykernel_18972/1093648232.py:15: RuntimeWarning: invalid value encountered in power\n",
      "  return np.power(p(x)/2.5, 1.0/4.0)\n"
     ]
    },
    {
     "data": {
      "image/png": "[encoded data removed]",
      "text/plain": [
       "<Figure size 432x288 with 1 Axes>"
      ]
     },
     "metadata": {
      "needs_background": "light"
     },
     "output_type": "display_data"
    }
   ],
   "source": [
    "xs = np.linspace(-2.5, 1.6, 100)\n",
    "ys = f(xs)\n",
    "dictionary = {\n",
    "    'x': xs,\n",
    "    'y': ys\n",
    "}\n",
    "plt.axhline(y=0, color='k')\n",
    "plt.plot(xs, f(xs), label='f(x)')\n",
    "plt.plot(xs, g1(xs), label='g1(x)')\n",
    "plt.plot(xs, g2(xs), label='g2(x)')\n",
    "plt.plot(xs, g3(xs), label='g3(x)')\n",
    "plt.legend()\n",
    "\n",
    "if len(g1_a) > 0:\n",
    "    root = np.array([g1_a[len(g1_a)-1], g2_a[len(g2_a)-1], g3_a[len(g3_a)-1]])\n",
    "    plt.plot(root, f(root), 'ro')\n",
    "\n",
    "print(pd.DataFrame({'g1(x)':g1_a, 'g2(x)':g2_a, 'g3(x))':g3_a,}))\n",
    "\n",
    "# Test case:\n",
    "np.testing.assert_array_almost_equal(root, [-2., 0.67242436, 1.33033625])"
   ]
  },
  {
   "cell_type": "code",
   "execution_count": null,
   "metadata": {
    "id": "KZdEg2f1xyjN"
   },
   "outputs": [],
   "source": []
  }
 ],
 "metadata": {
  "colab": {
   "collapsed_sections": [],
   "name": "Fixed_Point_Iteration.ipynb",
   "provenance": []
  },
  "interpreter": {
   "hash": "3e4b448d2e2eed91f3912e107bfd0feda1018494bd4b43e80040c315a53e7b3a"
  },
  "kernelspec": {
   "display_name": "Python 3.9.7 64-bit (windows store)",
   "name": "python3"
  },
  "language_info": {
   "codemirror_mode": {
    "name": "ipython",
    "version": 3
   },
   "file_extension": ".py",
   "mimetype": "text/x-python",
   "name": "python",
   "nbconvert_exporter": "python",
   "pygments_lexer": "ipython3",
   "version": "3.9.7"
  }
 },
 "nbformat": 4,
 "nbformat_minor": 2
}
